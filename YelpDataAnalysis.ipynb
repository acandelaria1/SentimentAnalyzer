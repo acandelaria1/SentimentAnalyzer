{
 "cells": [
  {
   "cell_type": "code",
   "execution_count": null,
   "metadata": {
    "collapsed": true
   },
   "outputs": [],
   "source": [
    "%matplotlib notebook\n",
    "from matplotlib import pyplot as plt\n",
    "import json\n",
    "from __future__ import print_function\n",
    "from collections import Counter\n",
    "from datetime import datetime\n",
    "import pandas as pd\n",
    "import numpy as np\n",
    "\n",
    "with open (\"yelp_dataset_challenge_round9/yelp_academic_dataset_review.json\") as f:#\"yelp_dataset_challenge_round9/yelp_academic_dataset_review.json\") as f:\n",
    "    #comma delimited json requires read_json method to set lines parameter to true\n",
    "    df = pd.read_json(json.loads(json.dumps(f.read())), lines=True)\n",
    "    \n",
    "print(\"completed upload of dataset\")"
   ]
  },
  {
   "cell_type": "code",
   "execution_count": null,
   "metadata": {
    "collapsed": true
   },
   "outputs": [],
   "source": []
  }
 ],
 "metadata": {
  "kernelspec": {
   "display_name": "Python 2",
   "language": "python",
   "name": "python2"
  },
  "language_info": {
   "codemirror_mode": {
    "name": "ipython",
    "version": 2
   },
   "file_extension": ".py",
   "mimetype": "text/x-python",
   "name": "python",
   "nbconvert_exporter": "python",
   "pygments_lexer": "ipython2",
   "version": "2.7.13"
  }
 },
 "nbformat": 4,
 "nbformat_minor": 2
}
