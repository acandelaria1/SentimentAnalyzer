{
 "cells": [
  {
   "cell_type": "code",
   "execution_count": 214,
   "metadata": {
    "collapsed": false
   },
   "outputs": [],
   "source": [
    "%matplotlib notebook\n",
    "from matplotlib import pyplot as plt\n",
    "import json\n",
    "from __future__ import print_function\n",
    "from collections import Counter\n",
    "from datetime import datetime\n",
    "import pandas as pd\n",
    "import numpy as np"
   ]
  },
  {
   "cell_type": "code",
   "execution_count": 241,
   "metadata": {
    "collapsed": false
   },
   "outputs": [
    {
     "name": "stdout",
     "output_type": "stream",
     "text": [
      "                       2aFiy99vNLklCx3T_tGS9A 2LfIuF3_sX6uwe-IR-P0jQ\n",
      "KpkOkG6RIf4Ra25Lhhxf1A                 0.8895                    NaN\n",
      "bQ7fQq1otn9hKX-gXRsrgA                 0.1513                    NaN\n",
      "r1NUhdNmL6yU9Bn-Yx6FTw                  0.807                    NaN\n",
      "aW3ix1KNZAvoM8q-WghA3Q                    NaN                 0.9523\n",
      "YOo-Cip8HqvKp_p9nEGphw                    NaN                 0.6061\n",
      "bgl3j8yJcRO-00NkUYsXGQ                    NaN                  0.944\n",
      "CWKF9de-nskLYEqDDCfubg                    NaN                 0.8881\n",
      "GJ7PTY7huYORFKKg3db3Gw                    NaN                 0.8945\n",
      "rxqp9eXZj1jYTn0UIsm3Hg                    NaN                 0.8553\n",
      "UU0nHQtHPMAfLidk8tOHTg                    NaN                 0.9426\n"
     ]
    }
   ],
   "source": [
    "# Sentiment Intensity Analyzer Using Vader\n",
    "from __future__ import print_function\n",
    "from nltk.sentiment.vader import SentimentIntensityAnalyzer\n",
    "from nltk import tokenize\n",
    "sid = SentimentIntensityAnalyzer()\n",
    "\n",
    "with open (\"test2.json\") as f:\n",
    "    #comma delimited json requires read_json method to set lines parameter to true\n",
    "    df = pd.read_json(json.loads(json.dumps(f.read())), lines=True)\n",
    "    #list unique business IDS and user ids to construct full dataframe\n",
    "    users = df.user_id.unique()\n",
    "    businesses = df.business_id.unique()\n",
    "    utility_matrix = pd.DataFrame(index=users, columns=businesses)\n",
    "    #print(df.columns)\n",
    "    #print(utility_matrix)\n",
    "    for index, row in df.iterrows():\n",
    "        compound_polarity_score = sid.polarity_scores(row['text'])\n",
    "        user_id = row['user_id']\n",
    "        business_id = row['business_id']\n",
    "        utility_matrix[business_id][user_id] = compound_polarity_score['compound']\n",
    "    print(utility_matrix)\n"
   ]
  },
  {
   "cell_type": "code",
   "execution_count": 124,
   "metadata": {
    "collapsed": false
   },
   "outputs": [
    {
     "name": "stdout",
     "output_type": "stream",
     "text": [
      "{\"review_id\":\"NxL8SIC5yqOdnlXCg18IBg\",\"user_id\":\"KpkOkG6RIf4Ra25Lhhxf1A\",\"business_id\":\"2aFiy99vNLklCx3T_tGS9A\",\"stars\":5,\"date\":\"2011-10-10\",\"text\":\"If you enjoy service by someone who is as competent as he is personable, I would recommend Corey Kaplan highly. The time he has spent here has been very productive and working with him educational and enjoyable. I hope not to need him again (though this is highly unlikely) but knowing he is there if I do is very nice. By the way, I'm not from El Centro, CA. but Scottsdale, AZ.\",\"useful\":0,\"funny\":0,\"cool\":0,\"type\":\"review\"}\n",
      "\n",
      " {\"review_id\":\"pXbbIgOXvLuTi_SPs1hQEQ\",\"user_id\":\"bQ7fQq1otn9hKX-gXRsrgA\",\"business_id\":\"2aFiy99vNLklCx3T_tGS9A\",\"stars\":5,\"date\":\"2010-12-29\",\"text\":\"After being on the phone with Verizon Wireless trying to figure out why my phone wasn't working for 4.5 hours, I was put in touch with Sharpie Tech. Well, after 10 seconds they fixed the problem. As the owner of a company that does our best numbers over the holiday season, having my phone out of order for 4.5 hours was horrible. Sharpie Tech fixed the problem in record time, even Verizon was shocked. I highly recommend working with this company and I look forward to working with them more. \\n\\n-Rachel Charlupski\\nFounder and CEO, The Babysitting Company\",\"useful\":1,\"funny\":0,\"cool\":0,\"type\":\"review\"}\n",
      "\n",
      " {\"review_id\":\"ry7vldTxIOQfOfqgYoS0Fw\",\"user_id\":\"hTth3h8I_p6Gg6jpPeQeMQ\",\"business_id\":\"-tLxryf1OpzVP9OSrznprg\",\"stars\":2,\"date\":\"2013-11-07\",\"text\":\"I saw Dr. Makoto Trotter a few times, and although I think he's very personable, I wouldn't recommend going there for actual treatment. He didn't seem very knowledgeable, and ultimately didn't help me one bit with any of my issues. Other reviewers of Makoto have said that he seemed more like a salesman, and I agree. He makes you quite uncomfortable by constantly pushing to sell his supplements. Often assuming that you are already buying it as he is \\\"recommending\\\" his product. I blew hundreds of dollars on useless tests and supplements, and that's after declining a whole bunch of other useless products that he \\\"recommended\\\" (i.e., adds it to your bill as you walk out unless you specifically decline).\",\"useful\":1,\"funny\":0,\"cool\":0,\"type\":\"review\"}\n"
     ]
    }
   ],
   "source": [
    "#Print the first review\n",
    "print(reviews[0])\n",
    "print(\"\\n\",reviews[1])\n",
    "print(\"\\n\",reviews[10000])"
   ]
  },
  {
   "cell_type": "code",
   "execution_count": 125,
   "metadata": {
    "collapsed": false
   },
   "outputs": [],
   "source": [
    "from nltk.tokenize import sent_tokenize\n",
    "import json\n",
    "first_review = json.loads(reviews[0])\n",
    "second_review = json.loads(reviews[1])\n",
    "nth_review = json.loads(reviews[10000])\n"
   ]
  },
  {
   "cell_type": "code",
   "execution_count": 126,
   "metadata": {
    "collapsed": false
   },
   "outputs": [],
   "source": [
    "review_text = first_review['text']\n",
    "review_text2 = second_review['text']\n",
    "review_text3 = nth_review['text']"
   ]
  },
  {
   "cell_type": "code",
   "execution_count": 127,
   "metadata": {
    "collapsed": false
   },
   "outputs": [
    {
     "name": "stdout",
     "output_type": "stream",
     "text": [
      "If you enjoy service by someone who is as competent as he is personable, I would recommend Corey Kaplan highly. The time he has spent here has been very productive and working with him educational and enjoyable. I hope not to need him again (though this is highly unlikely) but knowing he is there if I do is very nice. By the way, I'm not from El Centro, CA. but Scottsdale, AZ.\n",
      "\n",
      "Actual rating: 5\n",
      "compound:0.8895 neg:0.0 neu:0.823 pos:0.177 \n",
      "\n",
      "\n",
      "After being on the phone with Verizon Wireless trying to figure out why my phone wasn't working for 4.5 hours, I was put in touch with Sharpie Tech. Well, after 10 seconds they fixed the problem. As the owner of a company that does our best numbers over the holiday season, having my phone out of order for 4.5 hours was horrible. Sharpie Tech fixed the problem in record time, even Verizon was shocked. I highly recommend working with this company and I look forward to working with them more. \n",
      "\n",
      "-Rachel Charlupski\n",
      "Founder and CEO, The Babysitting Company\n",
      "\n",
      "Actual rating: 5\n",
      "compound:0.1513 neg:0.103 neu:0.789 pos:0.108 \n",
      "\n",
      "\n",
      "I saw Dr. Makoto Trotter a few times, and although I think he's very personable, I wouldn't recommend going there for actual treatment. He didn't seem very knowledgeable, and ultimately didn't help me one bit with any of my issues. Other reviewers of Makoto have said that he seemed more like a salesman, and I agree. He makes you quite uncomfortable by constantly pushing to sell his supplements. Often assuming that you are already buying it as he is \"recommending\" his product. I blew hundreds of dollars on useless tests and supplements, and that's after declining a whole bunch of other useless products that he \"recommended\" (i.e., adds it to your bill as you walk out unless you specifically decline).\n",
      "\n",
      "Actual rating: 2\n",
      "compound:-0.7803 neg:0.106 neu:0.851 pos:0.043 \n",
      "\n",
      "\n"
     ]
    }
   ],
   "source": [
    "# Sentiment Intensity Analyzer Using Vader\n",
    "from __future__ import print_function\n",
    "from nltk.sentiment.vader import SentimentIntensityAnalyzer\n",
    "from nltk import tokenize\n",
    "reviews = [first_review, second_review, nth_review]\n",
    "sid = SentimentIntensityAnalyzer()\n",
    "for review in reviews:\n",
    "    review_text = review['text']\n",
    "    rating = review['stars']\n",
    "    ss = sid.polarity_scores(review_text)\n",
    "    print(review_text + \"\\n\\nActual rating: {}\".format(rating))\n",
    "    for k in sorted(ss):\n",
    "        print(\"{0}:{1} \".format(k, ss[k]),end='')\n",
    "    print(\"\\n\\n\")"
   ]
  },
  {
   "cell_type": "code",
   "execution_count": 128,
   "metadata": {
    "collapsed": true
   },
   "outputs": [],
   "source": []
  },
  {
   "cell_type": "code",
   "execution_count": null,
   "metadata": {
    "collapsed": true
   },
   "outputs": [],
   "source": []
  },
  {
   "cell_type": "code",
   "execution_count": null,
   "metadata": {
    "collapsed": true
   },
   "outputs": [],
   "source": []
  }
 ],
 "metadata": {
  "kernelspec": {
   "display_name": "Python 2",
   "language": "python",
   "name": "python2"
  },
  "language_info": {
   "codemirror_mode": {
    "name": "ipython",
    "version": 2
   },
   "file_extension": ".py",
   "mimetype": "text/x-python",
   "name": "python",
   "nbconvert_exporter": "python",
   "pygments_lexer": "ipython2",
   "version": "2.7.13"
  }
 },
 "nbformat": 4,
 "nbformat_minor": 2
}
