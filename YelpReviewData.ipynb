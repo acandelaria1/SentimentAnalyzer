{
 "cells": [
  {
   "cell_type": "code",
   "execution_count": 22,
   "metadata": {
    "collapsed": true
   },
   "outputs": [],
   "source": [
    "%matplotlib notebook\n",
    "from matplotlib import pyplot as plt\n",
    "import json\n",
    "from collections import Counter\n",
    "from datetime import datetime"
   ]
  },
  {
   "cell_type": "code",
   "execution_count": 23,
   "metadata": {
    "collapsed": false
   },
   "outputs": [
    {
     "name": "stdout",
     "output_type": "stream",
     "text": [
      "2017-04-09 23:53:07.320384\n",
      "4153150\n"
     ]
    }
   ],
   "source": [
    "t1 = datetime.now()\n",
    "s = \"\"\n",
    "with open(\"yelp_dataset_challenge_round9/yelp_academic_dataset_review.json\") as f:\n",
    "    reviews = f.read().strip().split(\"\\n\")\n",
    "print(datetime.now())\n",
    "print(len(reviews))"
   ]
  },
  {
   "cell_type": "code",
   "execution_count": 24,
   "metadata": {
    "collapsed": false
   },
   "outputs": [
    {
     "name": "stdout",
     "output_type": "stream",
     "text": [
      "{\"review_id\":\"NxL8SIC5yqOdnlXCg18IBg\",\"user_id\":\"KpkOkG6RIf4Ra25Lhhxf1A\",\"business_id\":\"2aFiy99vNLklCx3T_tGS9A\",\"stars\":5,\"date\":\"2011-10-10\",\"text\":\"If you enjoy service by someone who is as competent as he is personable, I would recommend Corey Kaplan highly. The time he has spent here has been very productive and working with him educational and enjoyable. I hope not to need him again (though this is highly unlikely) but knowing he is there if I do is very nice. By the way, I'm not from El Centro, CA. but Scottsdale, AZ.\",\"useful\":0,\"funny\":0,\"cool\":0,\"type\":\"review\"}\n"
     ]
    }
   ],
   "source": [
    "#Print the first review\n",
    "print(reviews[0])"
   ]
  },
  {
   "cell_type": "code",
   "execution_count": 25,
   "metadata": {
    "collapsed": false
   },
   "outputs": [
    {
     "name": "stdout",
     "output_type": "stream",
     "text": [
      "{u'funny': 0, u'user_id': u'KpkOkG6RIf4Ra25Lhhxf1A', u'review_id': u'NxL8SIC5yqOdnlXCg18IBg', u'text': u\"If you enjoy service by someone who is as competent as he is personable, I would recommend Corey Kaplan highly. The time he has spent here has been very productive and working with him educational and enjoyable. I hope not to need him again (though this is highly unlikely) but knowing he is there if I do is very nice. By the way, I'm not from El Centro, CA. but Scottsdale, AZ.\", u'business_id': u'2aFiy99vNLklCx3T_tGS9A', u'stars': 5, u'date': u'2011-10-10', u'useful': 0, u'type': u'review', u'cool': 0}\n"
     ]
    }
   ],
   "source": [
    "from nltk.tokenize import sent_tokenize\n",
    "import json\n",
    "first_review = json.loads(reviews[0])\n",
    "print(first_review)"
   ]
  },
  {
   "cell_type": "code",
   "execution_count": 32,
   "metadata": {
    "collapsed": false
   },
   "outputs": [
    {
     "name": "stdout",
     "output_type": "stream",
     "text": [
      "If you enjoy service by someone who is as competent as he is personable, I would recommend Corey Kaplan highly. The time he has spent here has been very productive and working with him educational and enjoyable. I hope not to need him again (though this is highly unlikely) but knowing he is there if I do is very nice. By the way, I'm not from El Centro, CA. but Scottsdale, AZ.\n"
     ]
    }
   ],
   "source": [
    "review_text = first_review['text']\n",
    "print(review_text)"
   ]
  },
  {
   "cell_type": "code",
   "execution_count": 33,
   "metadata": {
    "collapsed": false
   },
   "outputs": [
    {
     "data": {
      "text/plain": [
       "[u'If you enjoy service by someone who is as competent as he is personable, I would recommend Corey Kaplan highly.',\n",
       " u'The time he has spent here has been very productive and working with him educational and enjoyable.',\n",
       " u'I hope not to need him again (though this is highly unlikely) but knowing he is there if I do is very nice.',\n",
       " u\"By the way, I'm not from El Centro, CA.\",\n",
       " u'but Scottsdale, AZ.']"
      ]
     },
     "execution_count": 33,
     "metadata": {},
     "output_type": "execute_result"
    }
   ],
   "source": [
    "\n",
    "sent_tokenize(review_text)"
   ]
  },
  {
   "cell_type": "code",
   "execution_count": 37,
   "metadata": {
    "collapsed": false
   },
   "outputs": [
    {
     "data": {
      "text/plain": [
       "[u'If',\n",
       " u'you',\n",
       " u'enjoy',\n",
       " u'service',\n",
       " u'by',\n",
       " u'someone',\n",
       " u'who',\n",
       " u'is',\n",
       " u'as',\n",
       " u'competent',\n",
       " u'as',\n",
       " u'he',\n",
       " u'is',\n",
       " u'personable',\n",
       " u',',\n",
       " u'I',\n",
       " u'would',\n",
       " u'recommend',\n",
       " u'Corey',\n",
       " u'Kaplan',\n",
       " u'highly',\n",
       " u'.',\n",
       " u'The',\n",
       " u'time',\n",
       " u'he',\n",
       " u'has',\n",
       " u'spent',\n",
       " u'here',\n",
       " u'has',\n",
       " u'been',\n",
       " u'very',\n",
       " u'productive',\n",
       " u'and',\n",
       " u'working',\n",
       " u'with',\n",
       " u'him',\n",
       " u'educational',\n",
       " u'and',\n",
       " u'enjoyable',\n",
       " u'.',\n",
       " u'I',\n",
       " u'hope',\n",
       " u'not',\n",
       " u'to',\n",
       " u'need',\n",
       " u'him',\n",
       " u'again',\n",
       " u'(',\n",
       " u'though',\n",
       " u'this',\n",
       " u'is',\n",
       " u'highly',\n",
       " u'unlikely',\n",
       " u')',\n",
       " u'but',\n",
       " u'knowing',\n",
       " u'he',\n",
       " u'is',\n",
       " u'there',\n",
       " u'if',\n",
       " u'I',\n",
       " u'do',\n",
       " u'is',\n",
       " u'very',\n",
       " u'nice',\n",
       " u'.',\n",
       " u'By',\n",
       " u'the',\n",
       " u'way',\n",
       " u',',\n",
       " u'I',\n",
       " u\"'m\",\n",
       " u'not',\n",
       " u'from',\n",
       " u'El',\n",
       " u'Centro',\n",
       " u',',\n",
       " u'CA',\n",
       " u'.',\n",
       " u'but',\n",
       " u'Scottsdale',\n",
       " u',',\n",
       " u'AZ',\n",
       " u'.']"
      ]
     },
     "execution_count": 37,
     "metadata": {},
     "output_type": "execute_result"
    }
   ],
   "source": [
    "from nltk.tokenize import word_tokenize\n",
    "word_tokenize(review_text)"
   ]
  },
  {
   "cell_type": "code",
   "execution_count": null,
   "metadata": {
    "collapsed": true
   },
   "outputs": [],
   "source": []
  }
 ],
 "metadata": {
  "kernelspec": {
   "display_name": "Python 2",
   "language": "python",
   "name": "python2"
  },
  "language_info": {
   "codemirror_mode": {
    "name": "ipython",
    "version": 2
   },
   "file_extension": ".py",
   "mimetype": "text/x-python",
   "name": "python",
   "nbconvert_exporter": "python",
   "pygments_lexer": "ipython2",
   "version": "2.7.13"
  }
 },
 "nbformat": 4,
 "nbformat_minor": 2
}
