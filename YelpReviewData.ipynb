{
 "cells": [
  {
   "cell_type": "code",
   "execution_count": 167,
   "metadata": {
    "collapsed": false
   },
   "outputs": [],
   "source": [
    "%matplotlib notebook\n",
    "from matplotlib import pyplot as plt\n",
    "import json\n",
    "from __future__ import print_function\n",
    "from collections import Counter\n",
    "from datetime import datetime\n",
    "import pandas as pd"
   ]
  },
  {
   "cell_type": "code",
   "execution_count": 205,
   "metadata": {
    "collapsed": false
   },
   "outputs": [
    {
     "name": "stdout",
     "output_type": "stream",
     "text": [
      "              business_id  cool       date  funny               review_id  \\\n",
      "0  2aFiy99vNLklCx3T_tGS9A     0 2011-10-10      0  NxL8SIC5yqOdnlXCg18IBg   \n",
      "1  2aFiy99vNLklCx3T_tGS9A     0 2010-12-29      0  pXbbIgOXvLuTi_SPs1hQEQ   \n",
      "\n",
      "   stars                                               text    type  useful  \\\n",
      "0      5  If you enjoy service by someone who is as comp...  review       0   \n",
      "1      5  After being on the phone with Verizon Wireless...  review       1   \n",
      "\n",
      "                  user_id  \n",
      "0  KpkOkG6RIf4Ra25Lhhxf1A  \n",
      "1  bQ7fQq1otn9hKX-gXRsrgA  \n"
     ]
    }
   ],
   "source": [
    "with open (\"test.json\") as f:\n",
    "    #comma delimited json requires read_json method to set lines parameter to true\n",
    "    df = pd.read_json(json.loads(json.dumps(f.read())), lines=True)\n"
   ]
  },
  {
   "cell_type": "code",
   "execution_count": 196,
   "metadata": {
    "collapsed": false
   },
   "outputs": [
    {
     "ename": "TypeError",
     "evalue": "Expected String or Unicode",
     "output_type": "error",
     "traceback": [
      "\u001b[0;31m---------------------------------------------------------------------------\u001b[0m",
      "\u001b[0;31mTypeError\u001b[0m                                 Traceback (most recent call last)",
      "\u001b[0;32m<ipython-input-196-d2a7686d1998>\u001b[0m in \u001b[0;36m<module>\u001b[0;34m()\u001b[0m\n\u001b[1;32m      1\u001b[0m \u001b[0;31m# Build User-Restaurant Utility Matrix\u001b[0m\u001b[0;34m\u001b[0m\u001b[0;34m\u001b[0m\u001b[0m\n\u001b[0;32m----> 2\u001b[0;31m \u001b[0mpd\u001b[0m\u001b[0;34m.\u001b[0m\u001b[0mread_json\u001b[0m\u001b[0;34m(\u001b[0m\u001b[0mreviews\u001b[0m\u001b[0;34m)\u001b[0m\u001b[0;34m\u001b[0m\u001b[0m\n\u001b[0m",
      "\u001b[0;32m/Users/alexiscandelaria/anaconda/lib/python2.7/site-packages/pandas/io/json.pyc\u001b[0m in \u001b[0;36mread_json\u001b[0;34m(path_or_buf, orient, typ, dtype, convert_axes, convert_dates, keep_default_dates, numpy, precise_float, date_unit, encoding, lines)\u001b[0m\n\u001b[1;32m    279\u001b[0m         obj = FrameParser(json, orient, dtype, convert_axes, convert_dates,\n\u001b[1;32m    280\u001b[0m                           \u001b[0mkeep_default_dates\u001b[0m\u001b[0;34m,\u001b[0m \u001b[0mnumpy\u001b[0m\u001b[0;34m,\u001b[0m \u001b[0mprecise_float\u001b[0m\u001b[0;34m,\u001b[0m\u001b[0;34m\u001b[0m\u001b[0m\n\u001b[0;32m--> 281\u001b[0;31m                           date_unit).parse()\n\u001b[0m\u001b[1;32m    282\u001b[0m \u001b[0;34m\u001b[0m\u001b[0m\n\u001b[1;32m    283\u001b[0m     \u001b[0;32mif\u001b[0m \u001b[0mtyp\u001b[0m \u001b[0;34m==\u001b[0m \u001b[0;34m'series'\u001b[0m \u001b[0;32mor\u001b[0m \u001b[0mobj\u001b[0m \u001b[0;32mis\u001b[0m \u001b[0mNone\u001b[0m\u001b[0;34m:\u001b[0m\u001b[0;34m\u001b[0m\u001b[0m\n",
      "\u001b[0;32m/Users/alexiscandelaria/anaconda/lib/python2.7/site-packages/pandas/io/json.pyc\u001b[0m in \u001b[0;36mparse\u001b[0;34m(self)\u001b[0m\n\u001b[1;32m    347\u001b[0m \u001b[0;34m\u001b[0m\u001b[0m\n\u001b[1;32m    348\u001b[0m         \u001b[0;32melse\u001b[0m\u001b[0;34m:\u001b[0m\u001b[0;34m\u001b[0m\u001b[0m\n\u001b[0;32m--> 349\u001b[0;31m             \u001b[0mself\u001b[0m\u001b[0;34m.\u001b[0m\u001b[0m_parse_no_numpy\u001b[0m\u001b[0;34m(\u001b[0m\u001b[0;34m)\u001b[0m\u001b[0;34m\u001b[0m\u001b[0m\n\u001b[0m\u001b[1;32m    350\u001b[0m \u001b[0;34m\u001b[0m\u001b[0m\n\u001b[1;32m    351\u001b[0m         \u001b[0;32mif\u001b[0m \u001b[0mself\u001b[0m\u001b[0;34m.\u001b[0m\u001b[0mobj\u001b[0m \u001b[0;32mis\u001b[0m \u001b[0mNone\u001b[0m\u001b[0;34m:\u001b[0m\u001b[0;34m\u001b[0m\u001b[0m\n",
      "\u001b[0;32m/Users/alexiscandelaria/anaconda/lib/python2.7/site-packages/pandas/io/json.pyc\u001b[0m in \u001b[0;36m_parse_no_numpy\u001b[0;34m(self)\u001b[0m\n\u001b[1;32m    564\u001b[0m         \u001b[0;32mif\u001b[0m \u001b[0morient\u001b[0m \u001b[0;34m==\u001b[0m \u001b[0;34m\"columns\"\u001b[0m\u001b[0;34m:\u001b[0m\u001b[0;34m\u001b[0m\u001b[0m\n\u001b[1;32m    565\u001b[0m             self.obj = DataFrame(\n\u001b[0;32m--> 566\u001b[0;31m                 loads(json, precise_float=self.precise_float), dtype=None)\n\u001b[0m\u001b[1;32m    567\u001b[0m         \u001b[0;32melif\u001b[0m \u001b[0morient\u001b[0m \u001b[0;34m==\u001b[0m \u001b[0;34m\"split\"\u001b[0m\u001b[0;34m:\u001b[0m\u001b[0;34m\u001b[0m\u001b[0m\n\u001b[1;32m    568\u001b[0m             decoded = dict((str(k), v)\n",
      "\u001b[0;31mTypeError\u001b[0m: Expected String or Unicode"
     ]
    }
   ],
   "source": [
    "# Build User-Restaurant Utility Matrix\n",
    "pd.read_json(reviews)\n"
   ]
  },
  {
   "cell_type": "code",
   "execution_count": 124,
   "metadata": {
    "collapsed": false
   },
   "outputs": [
    {
     "name": "stdout",
     "output_type": "stream",
     "text": [
      "{\"review_id\":\"NxL8SIC5yqOdnlXCg18IBg\",\"user_id\":\"KpkOkG6RIf4Ra25Lhhxf1A\",\"business_id\":\"2aFiy99vNLklCx3T_tGS9A\",\"stars\":5,\"date\":\"2011-10-10\",\"text\":\"If you enjoy service by someone who is as competent as he is personable, I would recommend Corey Kaplan highly. The time he has spent here has been very productive and working with him educational and enjoyable. I hope not to need him again (though this is highly unlikely) but knowing he is there if I do is very nice. By the way, I'm not from El Centro, CA. but Scottsdale, AZ.\",\"useful\":0,\"funny\":0,\"cool\":0,\"type\":\"review\"}\n",
      "\n",
      " {\"review_id\":\"pXbbIgOXvLuTi_SPs1hQEQ\",\"user_id\":\"bQ7fQq1otn9hKX-gXRsrgA\",\"business_id\":\"2aFiy99vNLklCx3T_tGS9A\",\"stars\":5,\"date\":\"2010-12-29\",\"text\":\"After being on the phone with Verizon Wireless trying to figure out why my phone wasn't working for 4.5 hours, I was put in touch with Sharpie Tech. Well, after 10 seconds they fixed the problem. As the owner of a company that does our best numbers over the holiday season, having my phone out of order for 4.5 hours was horrible. Sharpie Tech fixed the problem in record time, even Verizon was shocked. I highly recommend working with this company and I look forward to working with them more. \\n\\n-Rachel Charlupski\\nFounder and CEO, The Babysitting Company\",\"useful\":1,\"funny\":0,\"cool\":0,\"type\":\"review\"}\n",
      "\n",
      " {\"review_id\":\"ry7vldTxIOQfOfqgYoS0Fw\",\"user_id\":\"hTth3h8I_p6Gg6jpPeQeMQ\",\"business_id\":\"-tLxryf1OpzVP9OSrznprg\",\"stars\":2,\"date\":\"2013-11-07\",\"text\":\"I saw Dr. Makoto Trotter a few times, and although I think he's very personable, I wouldn't recommend going there for actual treatment. He didn't seem very knowledgeable, and ultimately didn't help me one bit with any of my issues. Other reviewers of Makoto have said that he seemed more like a salesman, and I agree. He makes you quite uncomfortable by constantly pushing to sell his supplements. Often assuming that you are already buying it as he is \\\"recommending\\\" his product. I blew hundreds of dollars on useless tests and supplements, and that's after declining a whole bunch of other useless products that he \\\"recommended\\\" (i.e., adds it to your bill as you walk out unless you specifically decline).\",\"useful\":1,\"funny\":0,\"cool\":0,\"type\":\"review\"}\n"
     ]
    }
   ],
   "source": [
    "#Print the first review\n",
    "print(reviews[0])\n",
    "print(\"\\n\",reviews[1])\n",
    "print(\"\\n\",reviews[10000])"
   ]
  },
  {
   "cell_type": "code",
   "execution_count": 125,
   "metadata": {
    "collapsed": false
   },
   "outputs": [],
   "source": [
    "from nltk.tokenize import sent_tokenize\n",
    "import json\n",
    "first_review = json.loads(reviews[0])\n",
    "second_review = json.loads(reviews[1])\n",
    "nth_review = json.loads(reviews[10000])\n"
   ]
  },
  {
   "cell_type": "code",
   "execution_count": 126,
   "metadata": {
    "collapsed": false
   },
   "outputs": [],
   "source": [
    "review_text = first_review['text']\n",
    "review_text2 = second_review['text']\n",
    "review_text3 = nth_review['text']"
   ]
  },
  {
   "cell_type": "code",
   "execution_count": 127,
   "metadata": {
    "collapsed": false
   },
   "outputs": [
    {
     "name": "stdout",
     "output_type": "stream",
     "text": [
      "If you enjoy service by someone who is as competent as he is personable, I would recommend Corey Kaplan highly. The time he has spent here has been very productive and working with him educational and enjoyable. I hope not to need him again (though this is highly unlikely) but knowing he is there if I do is very nice. By the way, I'm not from El Centro, CA. but Scottsdale, AZ.\n",
      "\n",
      "Actual rating: 5\n",
      "compound:0.8895 neg:0.0 neu:0.823 pos:0.177 \n",
      "\n",
      "\n",
      "After being on the phone with Verizon Wireless trying to figure out why my phone wasn't working for 4.5 hours, I was put in touch with Sharpie Tech. Well, after 10 seconds they fixed the problem. As the owner of a company that does our best numbers over the holiday season, having my phone out of order for 4.5 hours was horrible. Sharpie Tech fixed the problem in record time, even Verizon was shocked. I highly recommend working with this company and I look forward to working with them more. \n",
      "\n",
      "-Rachel Charlupski\n",
      "Founder and CEO, The Babysitting Company\n",
      "\n",
      "Actual rating: 5\n",
      "compound:0.1513 neg:0.103 neu:0.789 pos:0.108 \n",
      "\n",
      "\n",
      "I saw Dr. Makoto Trotter a few times, and although I think he's very personable, I wouldn't recommend going there for actual treatment. He didn't seem very knowledgeable, and ultimately didn't help me one bit with any of my issues. Other reviewers of Makoto have said that he seemed more like a salesman, and I agree. He makes you quite uncomfortable by constantly pushing to sell his supplements. Often assuming that you are already buying it as he is \"recommending\" his product. I blew hundreds of dollars on useless tests and supplements, and that's after declining a whole bunch of other useless products that he \"recommended\" (i.e., adds it to your bill as you walk out unless you specifically decline).\n",
      "\n",
      "Actual rating: 2\n",
      "compound:-0.7803 neg:0.106 neu:0.851 pos:0.043 \n",
      "\n",
      "\n"
     ]
    }
   ],
   "source": [
    "# Sentiment Intensity Analyzer Using Vader\n",
    "from __future__ import print_function\n",
    "from nltk.sentiment.vader import SentimentIntensityAnalyzer\n",
    "from nltk import tokenize\n",
    "reviews = [first_review, second_review, nth_review]\n",
    "sid = SentimentIntensityAnalyzer()\n",
    "for review in reviews:\n",
    "    review_text = review['text']\n",
    "    rating = review['stars']\n",
    "    ss = sid.polarity_scores(review_text)\n",
    "    print(review_text + \"\\n\\nActual rating: {}\".format(rating))\n",
    "    for k in sorted(ss):\n",
    "        print(\"{0}:{1} \".format(k, ss[k]),end='')\n",
    "    print(\"\\n\\n\")"
   ]
  },
  {
   "cell_type": "code",
   "execution_count": 128,
   "metadata": {
    "collapsed": true
   },
   "outputs": [],
   "source": []
  },
  {
   "cell_type": "code",
   "execution_count": null,
   "metadata": {
    "collapsed": true
   },
   "outputs": [],
   "source": []
  },
  {
   "cell_type": "code",
   "execution_count": null,
   "metadata": {
    "collapsed": true
   },
   "outputs": [],
   "source": []
  }
 ],
 "metadata": {
  "kernelspec": {
   "display_name": "Python 2",
   "language": "python",
   "name": "python2"
  },
  "language_info": {
   "codemirror_mode": {
    "name": "ipython",
    "version": 2
   },
   "file_extension": ".py",
   "mimetype": "text/x-python",
   "name": "python",
   "nbconvert_exporter": "python",
   "pygments_lexer": "ipython2",
   "version": "2.7.13"
  }
 },
 "nbformat": 4,
 "nbformat_minor": 2
}
